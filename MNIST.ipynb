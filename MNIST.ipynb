{
 "cells": [
  {
   "cell_type": "markdown",
   "metadata": {},
   "source": [
    "<h1>\n",
    "MNIST with CNN\n",
    "</h1>"
   ]
  },
  {
   "cell_type": "markdown",
   "metadata": {},
   "source": [
    "<div style=\"text-align: right;\">\n",
    "<h4>\n",
    "박주형 연구원의 Optical character recognition; OCR 코드를 참고하였습니다.\n",
    "</h4>\n",
    "</div>"
   ]
  },
  {
   "cell_type": "markdown",
   "metadata": {},
   "source": [
    "---"
   ]
  },
  {
   "cell_type": "markdown",
   "metadata": {},
   "source": [
    "## Import packages"
   ]
  },
  {
   "cell_type": "code",
   "execution_count": 1,
   "metadata": {},
   "outputs": [
    {
     "name": "stderr",
     "output_type": "stream",
     "text": [
      "/home/hufs/anaconda3/lib/python3.6/importlib/_bootstrap.py:219: RuntimeWarning: compiletime version 3.5 of module 'tensorflow.python.framework.fast_tensor_util' does not match runtime version 3.6\n",
      "  return f(*args, **kwds)\n",
      "/home/hufs/anaconda3/lib/python3.6/site-packages/h5py/__init__.py:34: FutureWarning: Conversion of the second argument of issubdtype from `float` to `np.floating` is deprecated. In future, it will be treated as `np.float64 == np.dtype(float).type`.\n",
      "  from ._conv import register_converters as _register_converters\n"
     ]
    }
   ],
   "source": [
    "import numpy as np\n",
    "import pandas as pd\n",
    "import matplotlib.pylab as plt\n",
    "import tensorflow as tf\n",
    "from sklearn.metrics import confusion_matrix "
   ]
  },
  {
   "cell_type": "code",
   "execution_count": 2,
   "metadata": {},
   "outputs": [
    {
     "name": "stdout",
     "output_type": "stream",
     "text": [
      "Extracting MNIST_data/train-images-idx3-ubyte.gz\n",
      "Extracting MNIST_data/train-labels-idx1-ubyte.gz\n",
      "Extracting MNIST_data/t10k-images-idx3-ubyte.gz\n",
      "Extracting MNIST_data/t10k-labels-idx1-ubyte.gz\n"
     ]
    }
   ],
   "source": [
    "from tensorflow.examples.tutorials.mnist import input_data\n",
    "mnist = input_data.read_data_sets(\"MNIST_data/\", one_hot=True)"
   ]
  },
  {
   "cell_type": "markdown",
   "metadata": {},
   "source": [
    "---"
   ]
  },
  {
   "cell_type": "markdown",
   "metadata": {},
   "source": [
    "## Data set"
   ]
  },
  {
   "cell_type": "code",
   "execution_count": 3,
   "metadata": {
    "collapsed": true
   },
   "outputs": [],
   "source": [
    "x_train = mnist.train.images\n",
    "x_test = mnist.test.images"
   ]
  },
  {
   "cell_type": "code",
   "execution_count": 4,
   "metadata": {
    "collapsed": true
   },
   "outputs": [],
   "source": [
    "y_train = mnist.train.labels\n",
    "y_test = mnist.test.labels"
   ]
  },
  {
   "cell_type": "code",
   "execution_count": 5,
   "metadata": {
    "collapsed": true
   },
   "outputs": [],
   "source": [
    "label_train = np.argmax(y_train, axis=1)\n",
    "label_test = np.argmax(y_test, axis=1)"
   ]
  },
  {
   "cell_type": "code",
   "execution_count": 6,
   "metadata": {},
   "outputs": [
    {
     "data": {
      "text/plain": [
       "array([[0., 0., 0., ..., 1., 0., 0.],\n",
       "       [0., 0., 0., ..., 0., 0., 0.],\n",
       "       [0., 0., 0., ..., 0., 0., 0.],\n",
       "       ...,\n",
       "       [0., 0., 0., ..., 0., 0., 0.],\n",
       "       [0., 0., 0., ..., 0., 0., 0.],\n",
       "       [0., 0., 0., ..., 0., 1., 0.]])"
      ]
     },
     "execution_count": 6,
     "metadata": {},
     "output_type": "execute_result"
    }
   ],
   "source": [
    "y_train"
   ]
  },
  {
   "cell_type": "code",
   "execution_count": 7,
   "metadata": {},
   "outputs": [
    {
     "data": {
      "text/plain": [
       "array([7, 3, 4, ..., 5, 6, 8])"
      ]
     },
     "execution_count": 7,
     "metadata": {},
     "output_type": "execute_result"
    }
   ],
   "source": [
    "label_train"
   ]
  },
  {
   "cell_type": "code",
   "execution_count": 8,
   "metadata": {
    "collapsed": true
   },
   "outputs": [],
   "source": [
    "img_size = 28  # MNIST data size 28*28\n",
    "img_size_flat = img_size * img_size\n",
    "img_shape = (img_size, img_size)\n",
    "num_channels = 1\n",
    "num_classes = 10"
   ]
  },
  {
   "cell_type": "code",
   "execution_count": 9,
   "metadata": {},
   "outputs": [
    {
     "data": {
      "text/plain": [
       "(55000, 784)"
      ]
     },
     "execution_count": 9,
     "metadata": {},
     "output_type": "execute_result"
    }
   ],
   "source": [
    "x_train.shape"
   ]
  },
  {
   "cell_type": "code",
   "execution_count": 10,
   "metadata": {},
   "outputs": [
    {
     "data": {
      "text/plain": [
       "(55000,)"
      ]
     },
     "execution_count": 10,
     "metadata": {},
     "output_type": "execute_result"
    }
   ],
   "source": [
    "label_train.shape"
   ]
  },
  {
   "cell_type": "markdown",
   "metadata": {},
   "source": [
    "---"
   ]
  },
  {
   "cell_type": "code",
   "execution_count": 11,
   "metadata": {
    "collapsed": true
   },
   "outputs": [],
   "source": [
    "def plot_images(images, cls_true, cls_pred=None):\n",
    "    assert len(images) == len(cls_true) == 9\n",
    "    \n",
    "    # Create figure with 3x3 sub-plots.\n",
    "    fig, axes = plt.subplots(3, 3)\n",
    "    fig.subplots_adjust(hspace=0.3, wspace=0.3)\n",
    "\n",
    "    for i, ax in enumerate(axes.flat):\n",
    "        # Plot image.\n",
    "        ax.imshow(images[i].reshape(img_shape), cmap='binary')\n",
    "\n",
    "        # Show true and predicted classes.\n",
    "        if cls_pred is None:\n",
    "            xlabel = \"True: {0}\".format(cls_true[i])\n",
    "        else:\n",
    "            xlabel = \"True: {0}, Pred: {1}\".format(cls_true[i], cls_pred[i])\n",
    "\n",
    "        # Show the classes as the label on the x-axis.\n",
    "        ax.set_xlabel(xlabel)\n",
    "        \n",
    "        # Remove ticks from the plot.\n",
    "        ax.set_xticks([])\n",
    "        ax.set_yticks([])\n",
    "    \n",
    "    # Ensure the plot is shown correctly with multiple plots\n",
    "    # in a single Notebook cell.\n",
    "    plt.show()"
   ]
  },
  {
   "cell_type": "code",
   "execution_count": 12,
   "metadata": {},
   "outputs": [
    {
     "data": {
      "image/png": "[encoded data removed]",
      "text/plain": [
       "<matplotlib.figure.Figure at 0x7f66cb6752e8>"
      ]
     },
     "metadata": {},
     "output_type": "display_data"
    }
   ],
   "source": [
    "plot_images(images=x_test[:9],\n",
    "            cls_true=label_test[:9])"
   ]
  },
  {
   "cell_type": "markdown",
   "metadata": {},
   "source": [
    "---"
   ]
  },
  {
   "cell_type": "markdown",
   "metadata": {},
   "source": [
    "## Build a model"
   ]
  },
  {
   "cell_type": "code",
   "execution_count": 13,
   "metadata": {
    "collapsed": true
   },
   "outputs": [],
   "source": [
    "train_input_fn = tf.estimator.inputs.numpy_input_fn(\n",
    "    x={\"x\" :  np.array(x_train)},\n",
    "    y=np.array(label_train),\n",
    "    num_epochs=None,\n",
    "    shuffle=True)"
   ]
  },
  {
   "cell_type": "code",
   "execution_count": 14,
   "metadata": {
    "collapsed": true
   },
   "outputs": [],
   "source": [
    "test_input_fn = tf.estimator.inputs.numpy_input_fn(\n",
    "    x={\"x\": np.array(x_test)},\n",
    "    y=np.array(label_test),\n",
    "    num_epochs=1,\n",
    "    shuffle=False)"
   ]
  },
  {
   "cell_type": "code",
   "execution_count": 15,
   "metadata": {
    "collapsed": true
   },
   "outputs": [],
   "source": [
    "config = tf.ConfigProto()\n",
    "config.gpu_options.allow_growth = True \n",
    "sess = tf.Session(config=config)"
   ]
  },
  {
   "cell_type": "code",
   "execution_count": 16,
   "metadata": {
    "collapsed": true
   },
   "outputs": [],
   "source": [
    "def conv2d(x, name, filters):\n",
    "    return tf.layers.conv2d(\n",
    "        inputs=x,\n",
    "        name=name,\n",
    "        filters=filters, \n",
    "        kernel_size=3,\n",
    "        padding=\"same\",\n",
    "        activation=tf.nn.elu,\n",
    "        reuse=tf.AUTO_REUSE# whether to reuse the weights of a previous layer by the same name.\n",
    "    )"
   ]
  },
  {
   "cell_type": "code",
   "execution_count": 17,
   "metadata": {
    "collapsed": true
   },
   "outputs": [],
   "source": [
    "def mp2d(x):\n",
    "    return tf.layers.max_pooling2d(\n",
    "        inputs=x,\n",
    "        pool_size=2,\n",
    "        strides=2)"
   ]
  },
  {
   "cell_type": "code",
   "execution_count": 18,
   "metadata": {
    "collapsed": true
   },
   "outputs": [],
   "source": [
    "def dense(x, name, node, activation):\n",
    "    return tf.layers.dense(\n",
    "        inputs=x,\n",
    "        name=name,\n",
    "        units=node, #dimensionality of the output space.\n",
    "        activation=activation,\n",
    "        reuse=tf.AUTO_REUSE)"
   ]
  },
  {
   "cell_type": "code",
   "execution_count": 19,
   "metadata": {
    "collapsed": true
   },
   "outputs": [],
   "source": [
    "def dropout(x, rate, training):\n",
    "    return tf.layers.dropout(\n",
    "        inputs=x,\n",
    "        rate=rate,\n",
    "        training=training)"
   ]
  },
  {
   "cell_type": "code",
   "execution_count": 20,
   "metadata": {
    "collapsed": true
   },
   "outputs": [],
   "source": [
    "def vgg(x, training):\n",
    "    \n",
    "    net = tf.reshape(x, [-1, img_size, img_size, num_channels])\n",
    "    net = tf.image.resize_image_with_crop_or_pad(net, 48, 48)\n",
    "    \n",
    "    net = conv2d(net, 'layers_conv1', 32)\n",
    "    net = conv2d(net, 'layers_conv2', 32)\n",
    "    net = mp2d(net)                      # 48 --> 24\n",
    "    net = conv2d(net, 'layers_conv3', 64)\n",
    "    net = conv2d(net, 'layers_conv4', 64)\n",
    "    net = mp2d(net)                      # 24 --> 12\n",
    "    net = conv2d(net, 'layers_conv5', 128)\n",
    "    net = conv2d(net, 'layers_conv6', 128)\n",
    "    net = mp2d(net)                      # 12 --> 6\n",
    "    \n",
    "    net = tf.contrib.layers.flatten(net)\n",
    "    \n",
    "    fc = dense(net, 'layers_fc1', num_classes*2, tf.nn.elu)\n",
    "    fc = dropout(fc, 0.5, training=training)\n",
    "    fc = dense(fc, 'layers_fc2', num_classes*2, tf.nn.elu)\n",
    "    fc = dropout(fc, 0.5, training=training)\n",
    "    \n",
    "    fc = dense(fc, 'softmax', num_classes, None)\n",
    "    \n",
    "    return fc"
   ]
  },
  {
   "cell_type": "code",
   "execution_count": 21,
   "metadata": {
    "collapsed": true
   },
   "outputs": [],
   "source": [
    "def model_fn(features, labels, mode, params):\n",
    "    \n",
    "    x = features[\"x\"]\n",
    "\n",
    "    net_train = vgg(x, training=True)\n",
    "    net_test = vgg(x, training=False)\n",
    "    \n",
    "    y_pred = tf.nn.softmax(logits=net_test)    \n",
    "    y_pred_cls = tf.argmax(y_pred, axis=1)\n",
    "\n",
    "    \n",
    "    if mode == tf.estimator.ModeKeys.PREDICT:\n",
    "        spec = tf.estimator.EstimatorSpec(mode=mode,\n",
    "                                          predictions=y_pred_cls)\n",
    "        \n",
    "    else:        \n",
    "        cross_entropy = tf.nn.sparse_softmax_cross_entropy_with_logits(labels=labels, logits=net_train)   \n",
    "        loss = tf.reduce_mean(cross_entropy)\n",
    "        tf.summary.scalar(\"loss\", loss)\n",
    "        \n",
    "        \n",
    "        optimizer = tf.train.AdamOptimizer(learning_rate=params[\"learning_rate\"])\n",
    "       \n",
    "        train_op = optimizer.minimize(\n",
    "            loss=loss, global_step=tf.train.get_global_step())\n",
    "        \n",
    "        acc = tf.metrics.accuracy(labels, y_pred_cls)\n",
    "        \n",
    "        logging_hook = tf.train.LoggingTensorHook(\n",
    "            {\n",
    "                \"my_loss\" : loss,\n",
    "                \"my_step\" : tf.train.get_global_step(),\n",
    "            },\n",
    "            every_n_iter=10000)\n",
    "         \n",
    "        summary_hook = tf.train.SummarySaverHook(\n",
    "            save_secs=60,\n",
    "            output_dir='./logs/tf',\n",
    "            summary_op=tf.summary.merge_all())\n",
    "         \n",
    "        spec = tf.estimator.EstimatorSpec(\n",
    "            mode=mode,\n",
    "            loss=loss,\n",
    "            train_op=train_op,\n",
    "            eval_metric_ops={\"accuracy\": acc},\n",
    "            training_hooks=[logging_hook, summary_hook]\n",
    "        )\n",
    "        \n",
    "    return spec"
   ]
  },
  {
   "cell_type": "code",
   "execution_count": 22,
   "metadata": {
    "collapsed": true
   },
   "outputs": [],
   "source": [
    "params = {\n",
    "    \"learning_rate\": 5e-5\n",
    "}"
   ]
  },
  {
   "cell_type": "markdown",
   "metadata": {},
   "source": [
    "---"
   ]
  },
  {
   "cell_type": "markdown",
   "metadata": {},
   "source": [
    "## Train, evaluate, and predict"
   ]
  },
  {
   "cell_type": "code",
   "execution_count": 23,
   "metadata": {
    "collapsed": true
   },
   "outputs": [],
   "source": [
    "run_config = tf.estimator.RunConfig(session_config=config,\n",
    "                                    save_summary_steps=100,\n",
    "                                    keep_checkpoint_max=3,\n",
    "                                    keep_checkpoint_every_n_hours=1,\n",
    "                                    log_step_count_steps=10000)"
   ]
  },
  {
   "cell_type": "code",
   "execution_count": 24,
   "metadata": {
    "scrolled": true
   },
   "outputs": [
    {
     "name": "stdout",
     "output_type": "stream",
     "text": [
      "INFO:tensorflow:Using config: {'_model_dir': './MNIST_sy/', '_tf_random_seed': None, '_save_summary_steps': 100, '_save_checkpoints_steps': None, '_save_checkpoints_secs': 600, '_session_config': gpu_options {\n",
      "  allow_growth: true\n",
      "}\n",
      ", '_keep_checkpoint_max': 3, '_keep_checkpoint_every_n_hours': 1, '_log_step_count_steps': 10000, '_service': None, '_cluster_spec': <tensorflow.python.training.server_lib.ClusterSpec object at 0x7f66c8bf14a8>, '_task_type': 'worker', '_task_id': 0, '_master': '', '_is_chief': True, '_num_ps_replicas': 0, '_num_worker_replicas': 1}\n"
     ]
    }
   ],
   "source": [
    "# Estimators \n",
    "model =tf.estimator.Estimator(model_fn=model_fn,\n",
    "                               params=params,\n",
    "                               config=run_config,\n",
    "                               model_dir=\"./MNIST_sy/\")"
   ]
  },
  {
   "cell_type": "markdown",
   "metadata": {},
   "source": [
    "<span style=\"color:#D74B4B; font-size:x-large; font-weight:bolder;\"> \n",
    "Training\n",
    "</span>"
   ]
  },
  {
   "cell_type": "code",
   "execution_count": 22,
   "metadata": {
    "scrolled": true
   },
   "outputs": [
    {
     "name": "stdout",
     "output_type": "stream",
     "text": [
      "INFO:tensorflow:Create CheckpointSaverHook.\n",
      "INFO:tensorflow:Saving checkpoints for 1 into ./MNIST_sy/model.ckpt.\n",
      "INFO:tensorflow:loss = 2.3031788, step = 1\n",
      "INFO:tensorflow:my_loss = 2.3031788, my_step = 1\n",
      "INFO:tensorflow:loss = 1.8482804, step = 101 (139.180 sec)\n",
      "INFO:tensorflow:loss = 1.3891673, step = 201 (144.196 sec)\n",
      "INFO:tensorflow:loss = 1.3165405, step = 301 (143.630 sec)\n",
      "INFO:tensorflow:loss = 1.166844, step = 401 (140.577 sec)\n",
      "INFO:tensorflow:Saving checkpoints for 425 into ./MNIST_sy/model.ckpt.\n",
      "INFO:tensorflow:loss = 1.0809393, step = 501 (139.642 sec)\n",
      "INFO:tensorflow:loss = 1.1953316, step = 601 (136.806 sec)\n",
      "INFO:tensorflow:loss = 1.1496679, step = 701 (133.803 sec)\n",
      "INFO:tensorflow:loss = 0.9436778, step = 801 (133.338 sec)\n",
      "INFO:tensorflow:Saving checkpoints for 867 into ./MNIST_sy/model.ckpt.\n",
      "INFO:tensorflow:loss = 0.9474902, step = 901 (134.872 sec)\n",
      "INFO:tensorflow:loss = 0.92214566, step = 1001 (133.927 sec)\n",
      "INFO:tensorflow:loss = 0.7751651, step = 1101 (134.541 sec)\n",
      "INFO:tensorflow:loss = 0.79444706, step = 1201 (133.505 sec)\n",
      "INFO:tensorflow:loss = 0.8016123, step = 1301 (133.096 sec)\n",
      "INFO:tensorflow:Saving checkpoints for 1317 into ./MNIST_sy/model.ckpt.\n",
      "INFO:tensorflow:loss = 0.85379183, step = 1401 (133.032 sec)\n",
      "INFO:tensorflow:loss = 0.7989807, step = 1501 (132.856 sec)\n",
      "INFO:tensorflow:loss = 0.6820093, step = 1601 (132.991 sec)\n",
      "INFO:tensorflow:loss = 0.84775794, step = 1701 (133.958 sec)\n",
      "INFO:tensorflow:Saving checkpoints for 1768 into ./MNIST_sy/model.ckpt.\n",
      "INFO:tensorflow:loss = 0.77014804, step = 1801 (132.896 sec)\n",
      "INFO:tensorflow:loss = 0.7431706, step = 1901 (137.475 sec)\n",
      "INFO:tensorflow:loss = 0.52492493, step = 2001 (133.227 sec)\n",
      "INFO:tensorflow:loss = 0.6703212, step = 2101 (136.507 sec)\n",
      "INFO:tensorflow:loss = 0.62881446, step = 2201 (134.533 sec)\n",
      "INFO:tensorflow:Saving checkpoints for 2213 into ./MNIST_sy/model.ckpt.\n",
      "INFO:tensorflow:loss = 0.75318146, step = 2301 (133.139 sec)\n",
      "INFO:tensorflow:loss = 0.66811234, step = 2401 (132.763 sec)\n",
      "INFO:tensorflow:loss = 0.706251, step = 2501 (133.936 sec)\n",
      "INFO:tensorflow:loss = 0.53556705, step = 2601 (133.985 sec)\n",
      "INFO:tensorflow:Saving checkpoints for 2657 into ./MNIST_sy/model.ckpt.\n",
      "INFO:tensorflow:loss = 0.62182856, step = 2701 (152.318 sec)\n",
      "INFO:tensorflow:loss = 0.6420931, step = 2801 (145.043 sec)\n",
      "INFO:tensorflow:loss = 0.72737956, step = 2901 (142.331 sec)\n",
      "INFO:tensorflow:loss = 0.57663053, step = 3001 (135.301 sec)\n",
      "INFO:tensorflow:Saving checkpoints for 3080 into ./MNIST_sy/model.ckpt.\n",
      "INFO:tensorflow:loss = 0.5214107, step = 3101 (138.802 sec)\n",
      "INFO:tensorflow:loss = 0.6297175, step = 3201 (145.877 sec)\n",
      "INFO:tensorflow:loss = 0.63970256, step = 3301 (140.989 sec)\n",
      "INFO:tensorflow:loss = 0.63095194, step = 3401 (144.060 sec)\n",
      "INFO:tensorflow:Saving checkpoints for 3501 into ./MNIST_sy/model.ckpt.\n",
      "INFO:tensorflow:loss = 0.49603835, step = 3501 (140.209 sec)\n",
      "INFO:tensorflow:loss = 0.505888, step = 3601 (141.439 sec)\n",
      "INFO:tensorflow:loss = 0.49441686, step = 3701 (141.068 sec)\n",
      "INFO:tensorflow:loss = 0.5264035, step = 3801 (147.989 sec)\n",
      "INFO:tensorflow:loss = 0.5898768, step = 3901 (140.770 sec)\n",
      "INFO:tensorflow:Saving checkpoints for 3921 into ./MNIST_sy/model.ckpt.\n",
      "INFO:tensorflow:loss = 0.4523263, step = 4001 (150.755 sec)\n",
      "INFO:tensorflow:loss = 0.37792537, step = 4101 (142.545 sec)\n",
      "INFO:tensorflow:loss = 0.39908963, step = 4201 (142.235 sec)\n",
      "INFO:tensorflow:loss = 0.56614137, step = 4301 (143.671 sec)\n",
      "INFO:tensorflow:Saving checkpoints for 4338 into ./MNIST_sy/model.ckpt.\n",
      "INFO:tensorflow:loss = 0.49585915, step = 4401 (142.445 sec)\n",
      "INFO:tensorflow:loss = 0.46447092, step = 4501 (142.009 sec)\n",
      "INFO:tensorflow:loss = 0.41447383, step = 4601 (145.638 sec)\n",
      "INFO:tensorflow:loss = 0.5340116, step = 4701 (146.246 sec)\n",
      "INFO:tensorflow:Saving checkpoints for 4753 into ./MNIST_sy/model.ckpt.\n",
      "INFO:tensorflow:loss = 0.51709485, step = 4801 (144.154 sec)\n",
      "INFO:tensorflow:loss = 0.37234932, step = 4901 (144.949 sec)\n",
      "INFO:tensorflow:loss = 0.33435234, step = 5001 (147.575 sec)\n",
      "INFO:tensorflow:loss = 0.49097997, step = 5101 (152.512 sec)\n",
      "INFO:tensorflow:Saving checkpoints for 5158 into ./MNIST_sy/model.ckpt.\n",
      "INFO:tensorflow:loss = 0.4809588, step = 5201 (148.181 sec)\n",
      "INFO:tensorflow:loss = 0.45386887, step = 5301 (146.795 sec)\n",
      "INFO:tensorflow:loss = 0.47777492, step = 5401 (152.149 sec)\n",
      "INFO:tensorflow:loss = 0.42822927, step = 5501 (149.940 sec)\n",
      "INFO:tensorflow:Saving checkpoints for 5564 into ./MNIST_sy/model.ckpt.\n",
      "INFO:tensorflow:loss = 0.42466372, step = 5601 (141.741 sec)\n",
      "INFO:tensorflow:loss = 0.43383795, step = 5701 (144.341 sec)\n",
      "INFO:tensorflow:loss = 0.3469094, step = 5801 (143.368 sec)\n",
      "INFO:tensorflow:loss = 0.47540072, step = 5901 (145.388 sec)\n",
      "INFO:tensorflow:Saving checkpoints for 5983 into ./MNIST_sy/model.ckpt.\n",
      "INFO:tensorflow:loss = 0.40788728, step = 6001 (140.548 sec)\n",
      "INFO:tensorflow:loss = 0.495875, step = 6101 (141.360 sec)\n",
      "INFO:tensorflow:loss = 0.40582788, step = 6201 (142.800 sec)\n",
      "INFO:tensorflow:loss = 0.42085204, step = 6301 (146.372 sec)\n",
      "INFO:tensorflow:loss = 0.2888622, step = 6401 (142.314 sec)\n",
      "INFO:tensorflow:Saving checkpoints for 6402 into ./MNIST_sy/model.ckpt.\n",
      "INFO:tensorflow:loss = 0.4567017, step = 6501 (141.611 sec)\n",
      "INFO:tensorflow:loss = 0.3350376, step = 6601 (145.880 sec)\n",
      "INFO:tensorflow:loss = 0.3770177, step = 6701 (133.364 sec)\n",
      "INFO:tensorflow:loss = 0.33160394, step = 6801 (136.173 sec)\n",
      "INFO:tensorflow:Saving checkpoints for 6835 into ./MNIST_sy/model.ckpt.\n",
      "INFO:tensorflow:loss = 0.38741353, step = 6901 (135.856 sec)\n",
      "INFO:tensorflow:loss = 0.33531347, step = 7001 (148.447 sec)\n",
      "INFO:tensorflow:loss = 0.40550965, step = 7101 (151.849 sec)\n",
      "INFO:tensorflow:loss = 0.36655775, step = 7201 (146.116 sec)\n",
      "INFO:tensorflow:Saving checkpoints for 7242 into ./MNIST_sy/model.ckpt.\n",
      "INFO:tensorflow:loss = 0.34998652, step = 7301 (150.711 sec)\n",
      "INFO:tensorflow:loss = 0.43120557, step = 7401 (147.576 sec)\n",
      "INFO:tensorflow:loss = 0.4084345, step = 7501 (145.842 sec)\n",
      "INFO:tensorflow:loss = 0.3345089, step = 7601 (150.415 sec)\n",
      "INFO:tensorflow:Saving checkpoints for 7647 into ./MNIST_sy/model.ckpt.\n",
      "INFO:tensorflow:loss = 0.3529334, step = 7701 (151.890 sec)\n",
      "INFO:tensorflow:loss = 0.37085342, step = 7801 (144.182 sec)\n",
      "INFO:tensorflow:loss = 0.30915716, step = 7901 (139.882 sec)\n",
      "INFO:tensorflow:loss = 0.28193778, step = 8001 (147.389 sec)\n",
      "INFO:tensorflow:Saving checkpoints for 8058 into ./MNIST_sy/model.ckpt.\n",
      "INFO:tensorflow:loss = 0.41868147, step = 8101 (147.843 sec)\n",
      "INFO:tensorflow:loss = 0.31891027, step = 8201 (148.180 sec)\n",
      "INFO:tensorflow:loss = 0.33079284, step = 8301 (150.983 sec)\n",
      "INFO:tensorflow:loss = 0.3793432, step = 8401 (150.180 sec)\n",
      "INFO:tensorflow:Saving checkpoints for 8461 into ./MNIST_sy/model.ckpt.\n",
      "INFO:tensorflow:loss = 0.27062652, step = 8501 (152.460 sec)\n",
      "INFO:tensorflow:loss = 0.31722254, step = 8601 (147.694 sec)\n",
      "INFO:tensorflow:loss = 0.32603323, step = 8701 (144.294 sec)\n",
      "INFO:tensorflow:loss = 0.3843661, step = 8801 (146.476 sec)\n",
      "INFO:tensorflow:Saving checkpoints for 8869 into ./MNIST_sy/model.ckpt.\n",
      "INFO:tensorflow:loss = 0.5345826, step = 8901 (146.661 sec)\n",
      "INFO:tensorflow:loss = 0.4453338, step = 9001 (155.034 sec)\n",
      "INFO:tensorflow:loss = 0.36833113, step = 9101 (155.370 sec)\n",
      "INFO:tensorflow:loss = 0.25895655, step = 9201 (149.546 sec)\n",
      "INFO:tensorflow:Saving checkpoints for 9266 into ./MNIST_sy/model.ckpt.\n",
      "INFO:tensorflow:loss = 0.28071862, step = 9301 (145.250 sec)\n",
      "INFO:tensorflow:loss = 0.31807226, step = 9401 (150.175 sec)\n",
      "INFO:tensorflow:loss = 0.2872335, step = 9501 (146.099 sec)\n",
      "INFO:tensorflow:loss = 0.27387804, step = 9601 (146.570 sec)\n",
      "INFO:tensorflow:Saving checkpoints for 9676 into ./MNIST_sy/model.ckpt.\n",
      "INFO:tensorflow:loss = 0.35183096, step = 9701 (143.135 sec)\n",
      "INFO:tensorflow:loss = 0.4001503, step = 9801 (145.483 sec)\n",
      "INFO:tensorflow:loss = 0.23174298, step = 9901 (143.053 sec)\n",
      "INFO:tensorflow:Saving checkpoints for 10000 into ./MNIST_sy/model.ckpt.\n",
      "INFO:tensorflow:Loss for final step: 0.33702275.\n"
     ]
    },
    {
     "data": {
      "text/plain": [
       "<tensorflow.python.estimator.estimator.Estimator at 0x7ff48fac43c8>"
      ]
     },
     "execution_count": 22,
     "metadata": {},
     "output_type": "execute_result"
    }
   ],
   "source": [
    "model.train(input_fn=train_input_fn, steps=10000)"
   ]
  },
  {
   "cell_type": "markdown",
   "metadata": {},
   "source": [
    "<span style=\"color:#D74B4B; font-size:x-large; font-weight:bolder;\"> \n",
    "Evaluation\n",
    "</span>"
   ]
  },
  {
   "cell_type": "markdown",
   "metadata": {},
   "source": [
    "Train : 55,000    \n",
    "Test  : 10,000"
   ]
  },
  {
   "cell_type": "code",
   "execution_count": 23,
   "metadata": {},
   "outputs": [
    {
     "name": "stdout",
     "output_type": "stream",
     "text": [
      "INFO:tensorflow:Starting evaluation at 2018-02-07-07:03:34\n",
      "INFO:tensorflow:Restoring parameters from ./MNIST_sy/model.ckpt-10000\n",
      "INFO:tensorflow:Finished evaluation at 2018-02-07-07:04:49\n",
      "INFO:tensorflow:Saving dict for global step 10000: accuracy = 0.9899, global_step = 10000, loss = 0.31213006\n"
     ]
    }
   ],
   "source": [
    "result = model.evaluate(input_fn=test_input_fn) "
   ]
  },
  {
   "cell_type": "code",
   "execution_count": 24,
   "metadata": {},
   "outputs": [
    {
     "data": {
      "text/plain": [
       "{'accuracy': 0.9899, 'global_step': 10000, 'loss': 0.31213006}"
      ]
     },
     "execution_count": 24,
     "metadata": {},
     "output_type": "execute_result"
    }
   ],
   "source": [
    "result"
   ]
  },
  {
   "cell_type": "code",
   "execution_count": 25,
   "metadata": {},
   "outputs": [
    {
     "name": "stdout",
     "output_type": "stream",
     "text": [
      "Classification accuracy: 98.99000%\n"
     ]
    }
   ],
   "source": [
    "print(\"Classification accuracy: {0:.5%}\".format(result[\"accuracy\"]))"
   ]
  },
  {
   "cell_type": "markdown",
   "metadata": {},
   "source": [
    "<span style=\"color:#D74B4B; font-size:x-large; font-weight:bolder;\"> \n",
    "Prediction\n",
    "</span>"
   ]
  },
  {
   "cell_type": "code",
   "execution_count": 33,
   "metadata": {
    "collapsed": true
   },
   "outputs": [],
   "source": [
    "predictions = model.predict(input_fn=test_input_fn)"
   ]
  },
  {
   "cell_type": "code",
   "execution_count": 34,
   "metadata": {},
   "outputs": [
    {
     "name": "stdout",
     "output_type": "stream",
     "text": [
      "INFO:tensorflow:Restoring parameters from ./MNIST_sy/model.ckpt-10000\n"
     ]
    },
    {
     "data": {
      "text/plain": [
       "array([7, 2, 1, ..., 4, 5, 6])"
      ]
     },
     "execution_count": 34,
     "metadata": {},
     "output_type": "execute_result"
    }
   ],
   "source": [
    "cls_pred = np.array(list(predictions))\n",
    "cls_pred"
   ]
  },
  {
   "cell_type": "code",
   "execution_count": 35,
   "metadata": {},
   "outputs": [
    {
     "data": {
      "image/png": "[encoded data removed]",
      "text/plain": [
       "<matplotlib.figure.Figure at 0x7fcd6bb9e940>"
      ]
     },
     "metadata": {},
     "output_type": "display_data"
    }
   ],
   "source": [
    "plot_images(images=x_test[:9],\n",
    "            cls_true=label_test[:9],\n",
    "            cls_pred=cls_pred[:9])"
   ]
  }
 ],
 "metadata": {
  "kernelspec": {
   "display_name": "Python 3",
   "language": "python",
   "name": "python3"
  },
  "language_info": {
   "codemirror_mode": {
    "name": "ipython",
    "version": 3
   },
   "file_extension": ".py",
   "mimetype": "text/x-python",
   "name": "python",
   "nbconvert_exporter": "python",
   "pygments_lexer": "ipython3",
   "version": "3.6.3"
  }
 },
 "nbformat": 4,
 "nbformat_minor": 2
}
